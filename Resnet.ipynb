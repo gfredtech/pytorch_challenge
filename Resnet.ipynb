{
  "nbformat": 4,
  "nbformat_minor": 0,
  "metadata": {
    "colab": {
      "name": "Resnet.ipynb",
      "version": "0.3.2",
      "provenance": [],
      "collapsed_sections": [],
      "include_colab_link": true
    },
    "kernelspec": {
      "name": "python3",
      "display_name": "Python 3"
    },
    "accelerator": "GPU"
  },
  "cells": [
    {
      "cell_type": "markdown",
      "metadata": {
        "id": "view-in-github",
        "colab_type": "text"
      },
      "source": [
        "<a href=\"https://colab.research.google.com/github/gfredtech/pytorch_challenge/blob/master/Resnet.ipynb\" target=\"_parent\"><img src=\"https://colab.research.google.com/assets/colab-badge.svg\" alt=\"Open In Colab\"/></a>"
      ]
    },
    {
      "metadata": {
        "id": "YZyauuxSL9cc",
        "colab_type": "text"
      },
      "cell_type": "markdown",
      "source": [
        "# Developing an AI application\n",
        "\n",
        "Going forward, AI algorithms will be incorporated into more and more everyday applications. For example, you might want to include an image classifier in a smart phone app. To do this, you'd use a deep learning model trained on hundreds of thousands of images as part of the overall application architecture. A large part of software development in the future will be using these types of models as common parts of applications. \n",
        "\n",
        "In this project, you'll train an image classifier to recognize different species of flowers. You can imagine using something like this in a phone app that tells you the name of the flower your camera is looking at. In practice you'd train this classifier, then export it for use in your application. We'll be using [this dataset](http://www.robots.ox.ac.uk/~vgg/data/flowers/102/index.html) of 102 flower categories, you can see a few examples below. \n",
        "\n",
        "<img src='https://github.com/std3rr/Image-Classifier/assets/Flowers.png' width=500px>\n",
        "\n",
        "The project is broken down into multiple steps:\n",
        "\n",
        "* Load and preprocess the image dataset\n",
        "* Train the image classifier on your dataset\n",
        "* Use the trained classifier to predict image content\n",
        "\n",
        "We'll lead you through each part which you'll implement in Python.\n",
        "\n",
        "When you've completed this project, you'll have an application that can be trained on any set of labeled images. Here your network will be learning about flowers and end up as a command line application. But, what you do with your new skills depends on your imagination and effort in building a dataset. For example, imagine an app where you take a picture of a car, it tells you what the make and model is, then looks up information about it. Go build your own dataset and make something new.\n",
        "\n",
        "First up is importing the packages you'll need. It's good practice to keep all the imports at the beginning of your code. As you work through this notebook and find you need to import a package, make sure to add the import up here."
      ]
    },
    {
      "metadata": {
        "id": "2hod9Vkv7aH2",
        "colab_type": "code",
        "colab": {}
      },
      "cell_type": "code",
      "source": [
        "# http://pytorch.org/\n",
        "from os.path import exists\n",
        "from wheel.pep425tags import get_abbr_impl, get_impl_ver, get_abi_tag\n",
        "platform = '{}{}-{}'.format(get_abbr_impl(), get_impl_ver(), get_abi_tag())\n",
        "cuda_output = !ldconfig -p|grep cudart.so|sed -e 's/.*\\.\\([0-9]*\\)\\.\\([0-9]*\\)$/cu\\1\\2/'\n",
        "accelerator = cuda_output[0] if exists('/dev/nvidia0') else 'cpu'\n",
        "\n",
        "!pip install -q http://download.pytorch.org/whl/{accelerator}/torch-0.4.1-{platform}-linux_x86_64.whl torchvision\n",
        "import torch"
      ],
      "execution_count": 0,
      "outputs": []
    },
    {
      "metadata": {
        "id": "QmJvAN6DL9ci",
        "colab_type": "code",
        "outputId": "d7289ca9-648b-4759-e79c-96b041e85fd2",
        "colab": {
          "base_uri": "https://localhost:8080/",
          "height": 156
        }
      },
      "cell_type": "code",
      "source": [
        "!pip uninstall -y Pillow\n",
        "# install the new one\n",
        "!pip install Pillow==5.3.0\n",
        "# import the new one\n",
        "import PIL\n",
        "print(PIL.PILLOW_VERSION)\n",
        "from torch import nn, optim\n",
        "import torch.nn.functional as F\n",
        "from torchvision import datasets, transforms, models\n",
        "\n",
        "import numpy as np\n",
        "import json\n",
        "\n",
        "from PIL import Image\n",
        "import matplotlib.pyplot as plt\n",
        "\n",
        "%matplotlib inline"
      ],
      "execution_count": 28,
      "outputs": [
        {
          "output_type": "stream",
          "text": [
            "Uninstalling Pillow-5.3.0:\n",
            "  Successfully uninstalled Pillow-5.3.0\n",
            "Collecting Pillow==5.3.0\n",
            "  Using cached https://files.pythonhosted.org/packages/62/94/5430ebaa83f91cc7a9f687ff5238e26164a779cca2ef9903232268b0a318/Pillow-5.3.0-cp36-cp36m-manylinux1_x86_64.whl\n",
            "Installing collected packages: Pillow\n",
            "Successfully installed Pillow-5.3.0\n",
            "5.3.0\n"
          ],
          "name": "stdout"
        }
      ]
    },
    {
      "metadata": {
        "id": "jXXebWeRL9cn",
        "colab_type": "text"
      },
      "cell_type": "markdown",
      "source": [
        "## Load the data\n",
        "\n",
        "Here you'll use `torchvision` to load the data ([documentation](http://pytorch.org/docs/0.3.0/torchvision/index.html)). The data should be included alongside this notebook, otherwise you can [download it here](https://s3.amazonaws.com/content.udacity-data.com/nd089/flower_data.tar.gz). The dataset is split into three parts, training, validation, and testing. For the training, you'll want to apply transformations such as random scaling, cropping, and flipping. This will help the network generalize leading to better performance. You'll also need to make sure the input data is resized to 224x224 pixels as required by the pre-trained networks.\n",
        "\n",
        "The validation and testing sets are used to measure the model's performance on data it hasn't seen yet. For this you don't want any scaling or rotation transformations, but you'll need to resize then crop the images to the appropriate size.\n",
        "\n",
        "The pre-trained networks you'll use were trained on the ImageNet dataset where each color channel was normalized separately. For all three sets you'll need to normalize the means and standard deviations of the images to what the network expects. For the means, it's `[0.485, 0.456, 0.406]` and for the standard deviations `[0.229, 0.224, 0.225]`, calculated from the ImageNet images.  These values will shift each color channel to be centered at 0 and range from -1 to 1.\n",
        " "
      ]
    },
    {
      "metadata": {
        "id": "V8elYLG5jD7M",
        "colab_type": "code",
        "colab": {
          "base_uri": "https://localhost:8080/",
          "height": 34
        },
        "outputId": "e114cec0-d753-496a-9611-6d7ec0ba5cb2"
      },
      "cell_type": "code",
      "source": [
        "!wget -cq https://github.com/udacity/pytorch_challenge/raw/master/cat_to_name.json\n",
        "!wget -cq https://s3.amazonaws.com/content.udacity-data.com/courses/nd188/flower_data.zip\n",
        "!unzip -qq flower_data.zip\n",
        "!rm -r flower_data.zip || true"
      ],
      "execution_count": 5,
      "outputs": [
        {
          "output_type": "stream",
          "text": [
            "replace flower_data/valid/61/image_06296.jpg? [y]es, [n]o, [A]ll, [N]one, [r]ename: A\n"
          ],
          "name": "stdout"
        }
      ]
    },
    {
      "metadata": {
        "id": "m683sTOdL9cp",
        "colab_type": "code",
        "colab": {}
      },
      "cell_type": "code",
      "source": [
        "data_dir = 'flower_data'\n",
        "train_dir = data_dir + '/train'\n",
        "valid_dir = data_dir + '/valid'"
      ],
      "execution_count": 0,
      "outputs": []
    },
    {
      "metadata": {
        "id": "ymaOWFTQL9cu",
        "colab_type": "code",
        "colab": {}
      },
      "cell_type": "code",
      "source": [
        "# TODO: Define your transforms for the training, validation, and testing sets\n",
        "data_transforms = {\n",
        "    'training': transforms.Compose([\n",
        "        transforms.RandomRotation(33),\n",
        "        transforms.RandomResizedCrop(224),\n",
        "        transforms.RandomHorizontalFlip(),\n",
        "        transforms.ToTensor(),\n",
        "        transforms.Normalize(\n",
        "            (.485,.456,.406),\n",
        "            (.229,.224,.225)\n",
        "        )        \n",
        "    ]),    \n",
        "    'validation': transforms.Compose([\n",
        "        transforms.Resize(256),\n",
        "        transforms.CenterCrop(224),\n",
        "        transforms.ToTensor(),\n",
        "        transforms.Normalize(\n",
        "            (.485,.456,.406),\n",
        "            (.229,.224,.225)\n",
        "        )         \n",
        "    ])\n",
        "}\n",
        "\n",
        "# TODO: Load the datasets with ImageFolder\n",
        "image_datasets = {\n",
        "    'training': datasets.ImageFolder(train_dir, transform=data_transforms['training']),\n",
        "    'validation': datasets.ImageFolder(valid_dir, transform=data_transforms['validation'])  \n",
        "}\n",
        "\n",
        "# TODO: Using the image datasets and the trainforms, define the dataloaders\n",
        "dataloaders = {\n",
        "    'training': torch.utils.data.DataLoader(image_datasets['training'], shuffle=True, batch_size=64),\n",
        "    'validation': torch.utils.data.DataLoader(image_datasets['validation'], batch_size=15),    \n",
        "}"
      ],
      "execution_count": 0,
      "outputs": []
    },
    {
      "metadata": {
        "id": "UFSBgim6L9cy",
        "colab_type": "text"
      },
      "cell_type": "markdown",
      "source": [
        "### Label mapping\n",
        "\n",
        "You'll also need to load in a mapping from category label to category name. You can find this in the file `cat_to_name.json`. It's a JSON object which you can read in with the [`json` module](https://docs.python.org/2/library/json.html). This will give you a dictionary mapping the integer encoded categories to the actual names of the flowers."
      ]
    },
    {
      "metadata": {
        "id": "NSM0NQyqL9c0",
        "colab_type": "code",
        "colab": {}
      },
      "cell_type": "code",
      "source": [
        "with open('cat_to_name.json', 'r') as f:\n",
        "    cat_to_name = json.load(f)"
      ],
      "execution_count": 0,
      "outputs": []
    },
    {
      "metadata": {
        "id": "8qlgV-abL9c2",
        "colab_type": "code",
        "colab": {
          "base_uri": "https://localhost:8080/",
          "height": 1751
        },
        "outputId": "b7b26e8e-8f28-44a0-e9b8-12588c9494a4"
      },
      "cell_type": "code",
      "source": [
        "cat_to_name"
      ],
      "execution_count": 32,
      "outputs": [
        {
          "output_type": "execute_result",
          "data": {
            "text/plain": [
              "{'1': 'pink primrose',\n",
              " '10': 'globe thistle',\n",
              " '100': 'blanket flower',\n",
              " '101': 'trumpet creeper',\n",
              " '102': 'blackberry lily',\n",
              " '11': 'snapdragon',\n",
              " '12': \"colt's foot\",\n",
              " '13': 'king protea',\n",
              " '14': 'spear thistle',\n",
              " '15': 'yellow iris',\n",
              " '16': 'globe-flower',\n",
              " '17': 'purple coneflower',\n",
              " '18': 'peruvian lily',\n",
              " '19': 'balloon flower',\n",
              " '2': 'hard-leaved pocket orchid',\n",
              " '20': 'giant white arum lily',\n",
              " '21': 'fire lily',\n",
              " '22': 'pincushion flower',\n",
              " '23': 'fritillary',\n",
              " '24': 'red ginger',\n",
              " '25': 'grape hyacinth',\n",
              " '26': 'corn poppy',\n",
              " '27': 'prince of wales feathers',\n",
              " '28': 'stemless gentian',\n",
              " '29': 'artichoke',\n",
              " '3': 'canterbury bells',\n",
              " '30': 'sweet william',\n",
              " '31': 'carnation',\n",
              " '32': 'garden phlox',\n",
              " '33': 'love in the mist',\n",
              " '34': 'mexican aster',\n",
              " '35': 'alpine sea holly',\n",
              " '36': 'ruby-lipped cattleya',\n",
              " '37': 'cape flower',\n",
              " '38': 'great masterwort',\n",
              " '39': 'siam tulip',\n",
              " '4': 'sweet pea',\n",
              " '40': 'lenten rose',\n",
              " '41': 'barbeton daisy',\n",
              " '42': 'daffodil',\n",
              " '43': 'sword lily',\n",
              " '44': 'poinsettia',\n",
              " '45': 'bolero deep blue',\n",
              " '46': 'wallflower',\n",
              " '47': 'marigold',\n",
              " '48': 'buttercup',\n",
              " '49': 'oxeye daisy',\n",
              " '5': 'english marigold',\n",
              " '50': 'common dandelion',\n",
              " '51': 'petunia',\n",
              " '52': 'wild pansy',\n",
              " '53': 'primula',\n",
              " '54': 'sunflower',\n",
              " '55': 'pelargonium',\n",
              " '56': 'bishop of llandaff',\n",
              " '57': 'gaura',\n",
              " '58': 'geranium',\n",
              " '59': 'orange dahlia',\n",
              " '6': 'tiger lily',\n",
              " '60': 'pink-yellow dahlia',\n",
              " '61': 'cautleya spicata',\n",
              " '62': 'japanese anemone',\n",
              " '63': 'black-eyed susan',\n",
              " '64': 'silverbush',\n",
              " '65': 'californian poppy',\n",
              " '66': 'osteospermum',\n",
              " '67': 'spring crocus',\n",
              " '68': 'bearded iris',\n",
              " '69': 'windflower',\n",
              " '7': 'moon orchid',\n",
              " '70': 'tree poppy',\n",
              " '71': 'gazania',\n",
              " '72': 'azalea',\n",
              " '73': 'water lily',\n",
              " '74': 'rose',\n",
              " '75': 'thorn apple',\n",
              " '76': 'morning glory',\n",
              " '77': 'passion flower',\n",
              " '78': 'lotus lotus',\n",
              " '79': 'toad lily',\n",
              " '8': 'bird of paradise',\n",
              " '80': 'anthurium',\n",
              " '81': 'frangipani',\n",
              " '82': 'clematis',\n",
              " '83': 'hibiscus',\n",
              " '84': 'columbine',\n",
              " '85': 'desert-rose',\n",
              " '86': 'tree mallow',\n",
              " '87': 'magnolia',\n",
              " '88': 'cyclamen',\n",
              " '89': 'watercress',\n",
              " '9': 'monkshood',\n",
              " '90': 'canna lily',\n",
              " '91': 'hippeastrum',\n",
              " '92': 'bee balm',\n",
              " '93': 'ball moss',\n",
              " '94': 'foxglove',\n",
              " '95': 'bougainvillea',\n",
              " '96': 'camellia',\n",
              " '97': 'mallow',\n",
              " '98': 'mexican petunia',\n",
              " '99': 'bromelia'}"
            ]
          },
          "metadata": {
            "tags": []
          },
          "execution_count": 32
        }
      ]
    },
    {
      "metadata": {
        "id": "GockrxNKL9c6",
        "colab_type": "text"
      },
      "cell_type": "markdown",
      "source": [
        "# Building and training the classifier\n",
        "\n",
        "Now that the data is ready, it's time to build and train the classifier. As usual, you should use one of the pretrained models from `torchvision.models` to get the image features. Build and train a new feed-forward classifier using those features.\n",
        "\n",
        "We're going to leave this part up to you. If you want to talk through it with someone, chat with your fellow students! You can also ask questions on the forums or join the instructors in office hours.\n",
        "\n",
        "Refer to [the rubric](https://review.udacity.com/#!/rubrics/1663/view) for guidance on successfully completing this section. Things you'll need to do:\n",
        "\n",
        "* Load a [pre-trained network](http://pytorch.org/docs/master/torchvision/models.html) (If you need a starting point, the VGG networks work great and are straightforward to use)\n",
        "* Define a new, untrained feed-forward network as a classifier, using ReLU activations and dropout\n",
        "* Train the classifier layers using backpropagation using the pre-trained network to get the features\n",
        "* Track the loss and accuracy on the validation set to determine the best hyperparameters\n",
        "\n",
        "We've left a cell open for you below, but use as many as you need. Our advice is to break the problem up into smaller parts you can run separately. Check that each part is doing what you expect, then move on to the next. You'll likely find that as you work through each part, you'll need to go back and modify your previous code. This is totally normal!\n",
        "\n",
        "When training make sure you're updating only the weights of the feed-forward network. You should be able to get the validation accuracy above 70% if you build everything right. Make sure to try different hyperparameters (learning rate, units in the classifier, epochs, etc) to find the best model. Save those hyperparameters to use as default values in the next part of the project."
      ]
    },
    {
      "metadata": {
        "id": "--hO3s5tL9dG",
        "colab_type": "code",
        "colab": {}
      },
      "cell_type": "code",
      "source": [
        "# Build and train your network\n",
        "model = models.resnet101(pretrained=True)\n",
        "# We dont want to backpropagate gradients through the pretrained layers\n",
        "for p in model.parameters():\n",
        "    p.requires_grad = False\n"
      ],
      "execution_count": 0,
      "outputs": []
    },
    {
      "metadata": {
        "id": "6IndSpvLL9dR",
        "colab_type": "code",
        "colab": {}
      },
      "cell_type": "code",
      "source": [
        "from collections import OrderedDict\n",
        "\n",
        "\n",
        "model.fc = nn.Sequential(OrderedDict([\n",
        "      ('fc1', nn.Linear(2048, 1000)),\n",
        "      ('relu', nn.ReLU()),\n",
        "      ('fc2', nn.Linear(1000,102)),\n",
        "      ('output', nn.LogSoftmax(dim=1))    \n",
        "]))"
      ],
      "execution_count": 0,
      "outputs": []
    },
    {
      "metadata": {
        "id": "UiBx-raaL9dU",
        "colab_type": "code",
        "colab": {}
      },
      "cell_type": "code",
      "source": [
        "criterion = nn.NLLLoss()\n",
        "model.cuda()\n",
        "optimizer = optim.Adam(model.fc.parameters(), lr=0.001)\n",
        "for state in optimizer.state.values():\n",
        "    for k, v in state.items():\n",
        "        if isinstance(v, torch.Tensor):\n",
        "            state[k] = v.cuda()"
      ],
      "execution_count": 0,
      "outputs": []
    },
    {
      "metadata": {
        "id": "KnWCZaevL9dY",
        "colab_type": "code",
        "colab": {}
      },
      "cell_type": "code",
      "source": [
        "def training(model, dataloaders, criterion, optimizer, epochs, \n",
        "                device=torch.device(\"cuda:0\" if torch.cuda.is_available() else \"cpu\")):\n",
        "    \n",
        "    steps = 0\n",
        "    model.to(device)\n",
        "    valid_loss_min = 100.0\n",
        "    \n",
        "    for e in range(epochs):\n",
        "        running_loss = 0\n",
        "        for images, labels in dataloaders['training']:\n",
        "            images, labels = images.to(device), labels.to(device)\n",
        "            model.train()\n",
        "            \n",
        "            optimizer.zero_grad()\n",
        "            \n",
        "            outputs = model.forward(images)\n",
        "            loss = criterion(outputs, labels)\n",
        "            loss.backward()\n",
        "            optimizer.step()\n",
        "            \n",
        "            running_loss += loss.item()\n",
        "        \n",
        "        train_loss = running_loss/len(dataloaders['training'].dataset)\n",
        "        \n",
        "        running_loss = 0\n",
        "        for images, labels in dataloaders['validation']:\n",
        "          images, labels = images.to(device), labels.to(device)\n",
        "          model.eval()\n",
        "          \n",
        "          optimizer.zero_grad()\n",
        "          outputs = model.forward(images)\n",
        "          loss = criterion(outputs, labels)\n",
        "          \n",
        "          running_loss += loss.item()\n",
        "        \n",
        "        valid_loss = running_loss/len(dataloaders['validation'].dataset)\n",
        "        \n",
        "        print(\"Epoch: {} of {}...\".format(e+1, epochs),\n",
        "                      \"Training Loss: {:.4f}\".format(train_loss), \n",
        "                      \"Valid Loss: {:.4f}\".format(valid_loss))\n",
        "          \n",
        "        if valid_loss <= valid_loss_min:\n",
        "            print(\"Saved model\")\n",
        "            model.class_to_idx = image_datasets['training'].class_to_idx\n",
        "            checkpoint = {\n",
        "                   'epochs' : e+1,\n",
        "                   'model_state' : model.state_dict(),\n",
        "                   'optimizer_state' : optimizer.state_dict,\n",
        "                   'class_to_idx' : model.class_to_idx        \n",
        "            }\n",
        "            torch.save(checkpoint, \"checkpoint.pth\")\n",
        "            valid_loss_min = valid_loss \n",
        "\n",
        "          \n",
        "          "
      ],
      "execution_count": 0,
      "outputs": []
    },
    {
      "metadata": {
        "id": "qUbyLu5uL9dd",
        "colab_type": "code",
        "outputId": "fc005b35-134f-4192-fa09-ee3857ad10fe",
        "colab": {
          "base_uri": "https://localhost:8080/",
          "height": 578
        }
      },
      "cell_type": "code",
      "source": [
        "training(model, dataloaders, criterion, optimizer, 20)"
      ],
      "execution_count": 37,
      "outputs": [
        {
          "output_type": "stream",
          "text": [
            "Epoch: 1 of 20... Training Loss: 0.0441 Valid Loss: 0.0751\n",
            "Saved model\n",
            "Epoch: 2 of 20... Training Loss: 0.0167 Valid Loss: 0.0412\n",
            "Saved model\n",
            "Epoch: 3 of 20... Training Loss: 0.0116 Valid Loss: 0.0284\n",
            "Saved model\n",
            "Epoch: 4 of 20... Training Loss: 0.0103 Valid Loss: 0.0237\n",
            "Saved model\n",
            "Epoch: 5 of 20... Training Loss: 0.0086 Valid Loss: 0.0215\n",
            "Saved model\n",
            "Epoch: 6 of 20... Training Loss: 0.0076 Valid Loss: 0.0210\n",
            "Saved model\n",
            "Epoch: 7 of 20... Training Loss: 0.0075 Valid Loss: 0.0215\n",
            "Epoch: 8 of 20... Training Loss: 0.0068 Valid Loss: 0.0206\n",
            "Saved model\n",
            "Epoch: 9 of 20... Training Loss: 0.0065 Valid Loss: 0.0169\n",
            "Saved model\n",
            "Epoch: 10 of 20... Training Loss: 0.0062 Valid Loss: 0.0178\n",
            "Epoch: 11 of 20... Training Loss: 0.0060 Valid Loss: 0.0170\n",
            "Epoch: 12 of 20... Training Loss: 0.0058 Valid Loss: 0.0152\n",
            "Saved model\n",
            "Epoch: 13 of 20... Training Loss: 0.0055 Valid Loss: 0.0152\n",
            "Epoch: 14 of 20... Training Loss: 0.0060 Valid Loss: 0.0149\n",
            "Saved model\n",
            "Epoch: 15 of 20... Training Loss: 0.0056 Valid Loss: 0.0139\n",
            "Saved model\n",
            "Epoch: 16 of 20... Training Loss: 0.0050 Valid Loss: 0.0138\n",
            "Saved model\n",
            "Epoch: 17 of 20... Training Loss: 0.0050 Valid Loss: 0.0135\n",
            "Saved model\n",
            "Epoch: 18 of 20... Training Loss: 0.0050 Valid Loss: 0.0197\n",
            "Epoch: 19 of 20... Training Loss: 0.0052 Valid Loss: 0.0137\n",
            "Epoch: 20 of 20... Training Loss: 0.0048 Valid Loss: 0.0141\n"
          ],
          "name": "stdout"
        }
      ]
    },
    {
      "metadata": {
        "id": "OTEOikfmL9dk",
        "colab_type": "code",
        "colab": {}
      },
      "cell_type": "code",
      "source": [
        "images, labels = iter(dataloaders['training']).next()"
      ],
      "execution_count": 0,
      "outputs": []
    },
    {
      "metadata": {
        "id": "CPYabr0WL9do",
        "colab_type": "code",
        "colab": {}
      },
      "cell_type": "code",
      "source": [
        "to_image = transforms.ToPILImage()"
      ],
      "execution_count": 0,
      "outputs": []
    },
    {
      "metadata": {
        "id": "OSXOb8hCL9du",
        "colab_type": "code",
        "outputId": "6d95c0b9-2d5d-4468-8f80-d879088b3893",
        "colab": {
          "base_uri": "https://localhost:8080/",
          "height": 286
        }
      },
      "cell_type": "code",
      "source": [
        "plt.imshow(to_image(images[0]))"
      ],
      "execution_count": 40,
      "outputs": [
        {
          "output_type": "execute_result",
          "data": {
            "text/plain": [
              "<matplotlib.image.AxesImage at 0x7f440c5837f0>"
            ]
          },
          "metadata": {
            "tags": []
          },
          "execution_count": 40
        },
        {
          "output_type": "display_data",
          "data": {
            "image/png": "[encoded data removed]",
            "text/plain": [
              "<matplotlib.figure.Figure at 0x7f440c443208>"
            ]
          },
          "metadata": {
            "tags": []
          }
        }
      ]
    },
    {
      "metadata": {
        "id": "Uj97YpOyL9d7",
        "colab_type": "text"
      },
      "cell_type": "markdown",
      "source": [
        "## Testing your network\n",
        "\n",
        "It's good practice to test your trained network on test data, images the network has never seen either in training or validation. This will give you a good estimate for the model's performance on completely new images. Run the test images through the network and measure the accuracy, the same way you did validation. You should be able to reach around 70% accuracy on the test set if the model has been trained well."
      ]
    },
    {
      "metadata": {
        "id": "O24P5lQigih9",
        "colab_type": "code",
        "colab": {}
      },
      "cell_type": "code",
      "source": [
        "def load_checkpoint():\n",
        "    c = torch.load('checkpoint.pth')\n",
        "    model.load_state_dict(c['model_state'])\n",
        "    #optimizer.load_state_dict(c['optimizer_state'])\n",
        "    # did'nt manage to load state dict for optimizer, but its unchanged compared to creation\n",
        "    model.class_to_idx = c['class_to_idx']\n",
        "    return model\n",
        "\n",
        "model = load_checkpoint()"
      ],
      "execution_count": 0,
      "outputs": []
    },
    {
      "metadata": {
        "id": "_WO6Qp4OL9d-",
        "colab_type": "code",
        "colab": {}
      },
      "cell_type": "code",
      "source": [
        "# Validation on validation set\n",
        "def validation(dataloader=dataloaders['validation'],\n",
        "                  device=torch.device(\"cuda:0\" if torch.cuda.is_available() else \"cpu\")):\n",
        "    total = 0\n",
        "    correct = 0\n",
        "    model.eval()\n",
        "    model.to(device)\n",
        "    imgcount = len(dataloader.dataset)\n",
        "    with torch.no_grad():\n",
        "        for images, labels in dataloader:\n",
        "            images, labels = images.to(device), labels.to(device)\n",
        "            print(images.shape)\n",
        "            outputs = model(images)\n",
        "            _, predicted = torch.max(outputs.data, 1)\n",
        "            total += labels.size(0)\n",
        "            correct += (predicted == labels).sum().item()\n",
        "            percent = (100 * correct / total)\n",
        "            print(f'Validation Accuracy: {percent}%')\n",
        "            \n",
        "        percent = (100 * correct / total)\n",
        "        print(f'Accurracy of {imgcount} flower test images: {percent}%')"
      ],
      "execution_count": 0,
      "outputs": []
    },
    {
      "metadata": {
        "id": "VoRM4yYJL9eE",
        "colab_type": "code",
        "outputId": "0add3aa0-3088-450c-be99-43c2562c0c8d",
        "colab": {
          "base_uri": "https://localhost:8080/",
          "height": 1904
        }
      },
      "cell_type": "code",
      "source": [
        "validation()"
      ],
      "execution_count": 44,
      "outputs": [
        {
          "output_type": "stream",
          "text": [
            "torch.Size([15, 3, 224, 224])\n",
            "Validation Accuracy: 100.0%\n",
            "torch.Size([15, 3, 224, 224])\n",
            "Validation Accuracy: 100.0%\n",
            "torch.Size([15, 3, 224, 224])\n",
            "Validation Accuracy: 95.55555555555556%\n",
            "torch.Size([15, 3, 224, 224])\n",
            "Validation Accuracy: 96.66666666666667%\n",
            "torch.Size([15, 3, 224, 224])\n",
            "Validation Accuracy: 97.33333333333333%\n",
            "torch.Size([15, 3, 224, 224])\n",
            "Validation Accuracy: 97.77777777777777%\n",
            "torch.Size([15, 3, 224, 224])\n",
            "Validation Accuracy: 96.19047619047619%\n",
            "torch.Size([15, 3, 224, 224])\n",
            "Validation Accuracy: 96.66666666666667%\n",
            "torch.Size([15, 3, 224, 224])\n",
            "Validation Accuracy: 97.03703703703704%\n",
            "torch.Size([15, 3, 224, 224])\n",
            "Validation Accuracy: 96.66666666666667%\n",
            "torch.Size([15, 3, 224, 224])\n",
            "Validation Accuracy: 95.75757575757575%\n",
            "torch.Size([15, 3, 224, 224])\n",
            "Validation Accuracy: 95.55555555555556%\n",
            "torch.Size([15, 3, 224, 224])\n",
            "Validation Accuracy: 94.35897435897436%\n",
            "torch.Size([15, 3, 224, 224])\n",
            "Validation Accuracy: 94.28571428571429%\n",
            "torch.Size([15, 3, 224, 224])\n",
            "Validation Accuracy: 92.44444444444444%\n",
            "torch.Size([15, 3, 224, 224])\n",
            "Validation Accuracy: 92.91666666666667%\n",
            "torch.Size([15, 3, 224, 224])\n",
            "Validation Accuracy: 93.33333333333333%\n",
            "torch.Size([15, 3, 224, 224])\n",
            "Validation Accuracy: 93.70370370370371%\n",
            "torch.Size([15, 3, 224, 224])\n",
            "Validation Accuracy: 93.6842105263158%\n",
            "torch.Size([15, 3, 224, 224])\n",
            "Validation Accuracy: 93.66666666666667%\n",
            "torch.Size([15, 3, 224, 224])\n",
            "Validation Accuracy: 93.96825396825396%\n",
            "torch.Size([15, 3, 224, 224])\n",
            "Validation Accuracy: 94.24242424242425%\n",
            "torch.Size([15, 3, 224, 224])\n",
            "Validation Accuracy: 94.20289855072464%\n",
            "torch.Size([15, 3, 224, 224])\n",
            "Validation Accuracy: 94.16666666666667%\n",
            "torch.Size([15, 3, 224, 224])\n",
            "Validation Accuracy: 93.06666666666666%\n",
            "torch.Size([15, 3, 224, 224])\n",
            "Validation Accuracy: 93.33333333333333%\n",
            "torch.Size([15, 3, 224, 224])\n",
            "Validation Accuracy: 93.58024691358025%\n",
            "torch.Size([15, 3, 224, 224])\n",
            "Validation Accuracy: 93.80952380952381%\n",
            "torch.Size([15, 3, 224, 224])\n",
            "Validation Accuracy: 94.02298850574712%\n",
            "torch.Size([15, 3, 224, 224])\n",
            "Validation Accuracy: 94.0%\n",
            "torch.Size([15, 3, 224, 224])\n",
            "Validation Accuracy: 94.19354838709677%\n",
            "torch.Size([15, 3, 224, 224])\n",
            "Validation Accuracy: 94.16666666666667%\n",
            "torch.Size([15, 3, 224, 224])\n",
            "Validation Accuracy: 94.14141414141415%\n",
            "torch.Size([15, 3, 224, 224])\n",
            "Validation Accuracy: 94.11764705882354%\n",
            "torch.Size([15, 3, 224, 224])\n",
            "Validation Accuracy: 94.28571428571429%\n",
            "torch.Size([15, 3, 224, 224])\n",
            "Validation Accuracy: 94.25925925925925%\n",
            "torch.Size([15, 3, 224, 224])\n",
            "Validation Accuracy: 93.87387387387388%\n",
            "torch.Size([15, 3, 224, 224])\n",
            "Validation Accuracy: 93.50877192982456%\n",
            "torch.Size([15, 3, 224, 224])\n",
            "Validation Accuracy: 93.5042735042735%\n",
            "torch.Size([15, 3, 224, 224])\n",
            "Validation Accuracy: 93.66666666666667%\n",
            "torch.Size([15, 3, 224, 224])\n",
            "Validation Accuracy: 93.82113821138212%\n",
            "torch.Size([15, 3, 224, 224])\n",
            "Validation Accuracy: 93.96825396825396%\n",
            "torch.Size([15, 3, 224, 224])\n",
            "Validation Accuracy: 94.10852713178295%\n",
            "torch.Size([15, 3, 224, 224])\n",
            "Validation Accuracy: 93.93939393939394%\n",
            "torch.Size([15, 3, 224, 224])\n",
            "Validation Accuracy: 93.92592592592592%\n",
            "torch.Size([15, 3, 224, 224])\n",
            "Validation Accuracy: 93.91304347826087%\n",
            "torch.Size([15, 3, 224, 224])\n",
            "Validation Accuracy: 93.90070921985816%\n",
            "torch.Size([15, 3, 224, 224])\n",
            "Validation Accuracy: 93.88888888888889%\n",
            "torch.Size([15, 3, 224, 224])\n",
            "Validation Accuracy: 93.87755102040816%\n",
            "torch.Size([15, 3, 224, 224])\n",
            "Validation Accuracy: 94.0%\n",
            "torch.Size([15, 3, 224, 224])\n",
            "Validation Accuracy: 93.98692810457516%\n",
            "torch.Size([15, 3, 224, 224])\n",
            "Validation Accuracy: 93.97435897435898%\n",
            "torch.Size([15, 3, 224, 224])\n",
            "Validation Accuracy: 94.0880503144654%\n",
            "torch.Size([15, 3, 224, 224])\n",
            "Validation Accuracy: 94.19753086419753%\n",
            "torch.Size([8, 3, 224, 224])\n",
            "Validation Accuracy: 94.25427872860635%\n",
            "Accurracy of 818 flower test images: 94.25427872860635%\n"
          ],
          "name": "stdout"
        }
      ]
    },
    {
      "metadata": {
        "id": "EKpAzjUSL9eJ",
        "colab_type": "text"
      },
      "cell_type": "markdown",
      "source": [
        "## Save the checkpoint\n",
        "\n",
        "Now that your network is trained, save the model so you can load it later for making predictions. You probably want to save other things such as the mapping of classes to indices which you get from one of the image datasets: `image_datasets['train'].class_to_idx`. You can attach this to the model as an attribute which makes inference easier later on.\n",
        "\n",
        "```model.class_to_idx = image_datasets['train'].class_to_idx```\n",
        "\n",
        "Remember that you'll want to completely rebuild the model later so you can use it for inference. Make sure to include any information you need in the checkpoint. If you want to load the model and keep training, you'll want to save the number of epochs as well as the optimizer state, `optimizer.state_dict`. You'll likely want to use this trained model in the next part of the project, so best to save it now."
      ]
    },
    {
      "metadata": {
        "id": "PC3KNE6KL9eP",
        "colab_type": "code",
        "colab": {}
      },
      "cell_type": "code",
      "source": [
        "def save_checkpoint(model):\n",
        "    model.class_to_idx = image_datasets['training'].class_to_idx\n",
        "    checkpoint = {\n",
        "        'epochs' : 4,\n",
        "        'model_state' : model.state_dict(),\n",
        "        'optimizer_state' : optimizer.state_dict,\n",
        "        'class_to_idx' : model.class_to_idx        \n",
        "    }\n",
        "    torch.save(checkpoint,'resnet4.pth')"
      ],
      "execution_count": 0,
      "outputs": []
    },
    {
      "metadata": {
        "id": "Xjdv2XLaL9eU",
        "colab_type": "code",
        "colab": {}
      },
      "cell_type": "code",
      "source": [
        "save_checkpoint(model)"
      ],
      "execution_count": 0,
      "outputs": []
    },
    {
      "metadata": {
        "id": "LR8ecYpHbI5C",
        "colab_type": "code",
        "colab": {}
      },
      "cell_type": "code",
      "source": [
        "# Install the PyDrive wrapper & import libraries.\n",
        "# This only needs to be done once in a notebook.\n",
        "!pip install -U -q PyDrive\n",
        "from pydrive.auth import GoogleAuth\n",
        "from pydrive.drive import GoogleDrive\n",
        "from google.colab import auth\n",
        "from oauth2client.client import GoogleCredentials\n",
        "\n",
        "# Authenticate and create the PyDrive client.\n",
        "# This only needs to be done once in a notebook.\n",
        "auth.authenticate_user()\n",
        "gauth = GoogleAuth()\n",
        "gauth.credentials = GoogleCredentials.get_application_default()\n",
        "drive = GoogleDrive(gauth)\n",
        "\n",
        "# Create & upload a file.\n",
        "uploaded = drive.CreateFile({'title': 'resnet4.pth'})\n",
        "uploaded.SetContentFile('resnet4.pth')\n",
        "uploaded.Upload()\n",
        "print('Uploaded file with ID {}'.format(uploaded.get('id')))"
      ],
      "execution_count": 0,
      "outputs": []
    },
    {
      "metadata": {
        "id": "LKZIc40oL9eW",
        "colab_type": "text"
      },
      "cell_type": "markdown",
      "source": [
        "## Loading the checkpoint\n",
        "\n",
        "At this point it's good to write a function that can load a checkpoint and rebuild the model. That way you can come back to this project and keep working on it without having to retrain the network."
      ]
    },
    {
      "metadata": {
        "id": "LFMwoHbnL9eX",
        "colab_type": "code",
        "colab": {}
      },
      "cell_type": "code",
      "source": [
        "# Write a function that loads a checkpoint and rebuilds the model\n",
        "def load_checkpoint():\n",
        "    c = torch.load('resnet4.pth')\n",
        "    model.load_state_dict(c['model_state'])\n",
        "    #optimizer.load_state_dict(c['optimizer_state'])\n",
        "    # did'nt manage to load state dict for optimizer, but its unchanged compared to creation\n",
        "    model.class_to_idx = c['class_to_idx']\n",
        "    return model"
      ],
      "execution_count": 0,
      "outputs": []
    },
    {
      "metadata": {
        "id": "MYIelhE-L9eb",
        "colab_type": "code",
        "colab": {}
      },
      "cell_type": "code",
      "source": [
        "load_checkpoint()"
      ],
      "execution_count": 0,
      "outputs": []
    },
    {
      "metadata": {
        "id": "KybwodXpL9eg",
        "colab_type": "text"
      },
      "cell_type": "markdown",
      "source": [
        "# Inference for classification\n",
        "\n",
        "Now you'll write a function to use a trained network for inference. That is, you'll pass an image into the network and predict the class of the flower in the image. Write a function called `predict` that takes an image and a model, then returns the top $K$ most likely classes along with the probabilities. It should look like \n",
        "\n",
        "```python\n",
        "probs, classes = predict(image_path, model)\n",
        "print(probs)\n",
        "print(classes)\n",
        "> [ 0.01558163  0.01541934  0.01452626  0.01443549  0.01407339]\n",
        "> ['70', '3', '45', '62', '55']\n",
        "```\n",
        "\n",
        "First you'll need to handle processing the input image such that it can be used in your network. \n",
        "\n",
        "## Image Preprocessing\n",
        "\n",
        "You'll want to use `PIL` to load the image ([documentation](https://pillow.readthedocs.io/en/latest/reference/Image.html)). It's best to write a function that preprocesses the image so it can be used as input for the model. This function should process the images in the same manner used for training. \n",
        "\n",
        "First, resize the images where the shortest side is 256 pixels, keeping the aspect ratio. This can be done with the [`thumbnail`](http://pillow.readthedocs.io/en/3.1.x/reference/Image.html#PIL.Image.Image.thumbnail) or [`resize`](http://pillow.readthedocs.io/en/3.1.x/reference/Image.html#PIL.Image.Image.thumbnail) methods. Then you'll need to crop out the center 224x224 portion of the image.\n",
        "\n",
        "Color channels of images are typically encoded as integers 0-255, but the model expected floats 0-1. You'll need to convert the values. It's easiest with a Numpy array, which you can get from a PIL image like so `np_image = np.array(pil_image)`.\n",
        "\n",
        "As before, the network expects the images to be normalized in a specific way. For the means, it's `[0.485, 0.456, 0.406]` and for the standard deviations `[0.229, 0.224, 0.225]`. You'll want to subtract the means from each color channel, then divide by the standard deviation. \n",
        "\n",
        "And finally, PyTorch expects the color channel to be the first dimension but it's the third dimension in the PIL image and Numpy array. You can reorder dimensions using [`ndarray.transpose`](https://docs.scipy.org/doc/numpy-1.13.0/reference/generated/numpy.ndarray.transpose.html). The color channel needs to be first and retain the order of the other two dimensions."
      ]
    },
    {
      "metadata": {
        "id": "3PWQ9dF6L9ej",
        "colab_type": "code",
        "colab": {}
      },
      "cell_type": "code",
      "source": [
        "def process_image(image):\n",
        "    ''' Scales, crops, and normalizes a PIL image for a PyTorch model,\n",
        "        returns an Numpy array\n",
        "    '''\n",
        "    # TODO: Process a PIL image for use in a PyTorch model\n",
        "    size = 256\n",
        "    ccrop = 224\n",
        "    \n",
        "    margin = ( size - ccrop ) / 2\n",
        "\n",
        "    image = image.resize((size,size))\n",
        "    image = image.crop( (margin, margin, size-margin, size-margin) )\n",
        "\n",
        "    image = np.array(image) / 255\n",
        "    mean = np.array([0.485, 0.456, 0.406])\n",
        "    std = np.array([0.229, 0.224, 0.225])\n",
        "    image = ( image - mean ) / std\n",
        "    image = image.transpose((2,0,1))\n",
        "\n",
        "    return image"
      ],
      "execution_count": 0,
      "outputs": []
    },
    {
      "metadata": {
        "id": "3f9kyCiUL9en",
        "colab_type": "text"
      },
      "cell_type": "markdown",
      "source": [
        "To check your work, the function below converts a PyTorch tensor and displays it in the notebook. If your `process_image` function works, running the output through this function should return the original image (except for the cropped out portions)."
      ]
    },
    {
      "metadata": {
        "id": "8B5SiK2AL9eo",
        "colab_type": "code",
        "colab": {}
      },
      "cell_type": "code",
      "source": [
        "def imshow(image, ax=None, title=None):\n",
        "    if ax is None:\n",
        "        fig, ax = plt.subplots()\n",
        "    \n",
        "    # PyTorch tensors assume the color channel is the first dimension\n",
        "    # but matplotlib assumes is the third dimension\n",
        "    image = image.transpose((1, 2, 0))\n",
        "    \n",
        "    # Undo preprocessing\n",
        "    mean = np.array([0.485, 0.456, 0.406])\n",
        "    std = np.array([0.229, 0.224, 0.225])\n",
        "    image = std * image + mean\n",
        "    \n",
        "    # Image needs to be clipped between 0 and 1 or it looks like noise when displayed\n",
        "    image = np.clip(image, 0, 1)\n",
        "    \n",
        "    if title is not None:\n",
        "        ax.set_title(title)\n",
        "    ax.imshow(image)\n",
        "    \n",
        "    return ax"
      ],
      "execution_count": 0,
      "outputs": []
    },
    {
      "metadata": {
        "id": "vVGQPJJFL9et",
        "colab_type": "code",
        "colab": {}
      },
      "cell_type": "code",
      "source": [
        "from os import listdir"
      ],
      "execution_count": 0,
      "outputs": []
    },
    {
      "metadata": {
        "id": "W_TzFwpaL9ez",
        "colab_type": "code",
        "colab": {}
      },
      "cell_type": "code",
      "source": [
        "imshow( process_image( Image.open(test_dir+'/70/image_05324.jpg') ))"
      ],
      "execution_count": 0,
      "outputs": []
    },
    {
      "metadata": {
        "id": "RcQ_YmAML9e6",
        "colab_type": "text"
      },
      "cell_type": "markdown",
      "source": [
        "## Class Prediction\n",
        "\n",
        "Once you can get images in the correct format, it's time to write a function for making predictions with your model. A common practice is to predict the top 5 or so (usually called top-$K$) most probable classes. You'll want to calculate the class probabilities then find the $K$ largest values.\n",
        "\n",
        "To get the top $K$ largest values in a tensor use [`x.topk(k)`](http://pytorch.org/docs/master/torch.html#torch.topk). This method returns both the highest `k` probabilities and the indices of those probabilities corresponding to the classes. You need to convert from these indices to the actual class labels using `class_to_idx` which hopefully you added to the model or from an `ImageFolder` you used to load the data ([see here](#Save-the-checkpoint)). Make sure to invert the dictionary so you get a mapping from index to class as well.\n",
        "\n",
        "Again, this method should take a path to an image and a model checkpoint, then return the probabilities and classes.\n",
        "\n",
        "```python\n",
        "probs, classes = predict(image_path, model)\n",
        "print(probs)\n",
        "print(classes)\n",
        "> [ 0.01558163  0.01541934  0.01452626  0.01443549  0.01407339]\n",
        "> ['70', '3', '45', '62', '55']\n",
        "```"
      ]
    },
    {
      "metadata": {
        "id": "xwTx_NXLL9e7",
        "colab_type": "code",
        "colab": {}
      },
      "cell_type": "code",
      "source": [
        "def predict(image_path, model, topk=5):\n",
        "    ''' Predict the class (or classes) of an image using a trained deep learning model.\n",
        "    '''\n",
        "    \n",
        "    # code to predict the class from an image file\n",
        "    torch.set_default_tensor_type('torch.cuda.FloatTensor')\n",
        "    model.cuda()    \n",
        "    \n",
        "    with torch.no_grad():\n",
        "        im = Image.open(image_path)\n",
        "        npim = process_image( im )\n",
        "        print( npim.shape )\n",
        "        tensor = torch.Tensor( npim )\n",
        "        tensor.unsqueeze_(0)\n",
        "        tensor.cuda()\n",
        "        \n",
        "        out = model( tensor )\n",
        "        pred = torch.exp( out ).data.topk(topk)\n",
        "\n",
        "        probs = pred[0].cpu().numpy().squeeze()\n",
        "        idx_to_class = dict(map(reversed, model.class_to_idx.items()))\n",
        "        classes = [ idx_to_class[i] for i in pred[1].cpu().numpy()[0] ]\n",
        "\n",
        "        return probs, classes, npim\n",
        "        "
      ],
      "execution_count": 0,
      "outputs": []
    },
    {
      "metadata": {
        "id": "ap8lVMNhL9fC",
        "colab_type": "code",
        "colab": {}
      },
      "cell_type": "code",
      "source": [
        "predict(test_dir+'/70/image_05324.jpg', model)"
      ],
      "execution_count": 0,
      "outputs": []
    },
    {
      "metadata": {
        "id": "3b_Xh63kL9fJ",
        "colab_type": "text"
      },
      "cell_type": "markdown",
      "source": [
        "## Sanity Checking\n",
        "\n",
        "Now that you can use a trained model for predictions, check to make sure it makes sense. Even if the testing accuracy is high, it's always good to check that there aren't obvious bugs. Use `matplotlib` to plot the probabilities for the top 5 classes as a bar graph, along with the input image. It should look like this:\n",
        "\n",
        "<img src='https://github.com/std3rr/Image-Classifier/assets/inference_example.png' width=300px>\n",
        "\n",
        "You can convert from the class integer encoding to actual flower names with the `cat_to_name.json` file (should have been loaded earlier in the notebook). To show a PyTorch tensor as an image, use the `imshow` function defined above."
      ]
    },
    {
      "metadata": {
        "id": "Qs82_ecmL9fK",
        "colab_type": "code",
        "colab": {}
      },
      "cell_type": "code",
      "source": [
        "# Display an image along with the top 5 classes\n",
        "def show_top5(image):\n",
        "    probs, classes, im = predict(image, model)\n",
        "    \n",
        "    labels = [cat_to_name[i] for i in classes]\n",
        "    \n",
        "    print(labels)\n",
        "    print(probs)\n",
        "\n",
        "    fig, (ax1, ax2) = plt.subplots(figsize=(6,9), ncols=2)\n",
        "    ax1.axis('off')\n",
        "    imshow(im, ax=ax1, title = labels[0])\n",
        "    ax2.barh(np.arange(5), probs)\n",
        "    ax2.set_aspect(0.1)\n",
        "    ax2.set_yticks(np.arange(5))\n",
        "    ax2.set_yticklabels(labels)\n",
        "    ax2.set_xlim(0, 1.1)\n",
        "    \n",
        "    plt.tight_layout()"
      ],
      "execution_count": 0,
      "outputs": []
    },
    {
      "metadata": {
        "id": "fC2DRUx3L9fP",
        "colab_type": "code",
        "colab": {}
      },
      "cell_type": "code",
      "source": [
        "show_top5(test_dir+'/28/image_05270.jpg')"
      ],
      "execution_count": 0,
      "outputs": []
    },
    {
      "metadata": {
        "id": "GjtSmjg0L9fV",
        "colab_type": "code",
        "colab": {}
      },
      "cell_type": "code",
      "source": [
        "def test_random_prediction():\n",
        "    cat = str(np.random.randint(100)+1)\n",
        "    name = cat_to_name[cat]\n",
        "    dir = test_dir+'/'+str(cat)\n",
        "    files = listdir(dir+'/')\n",
        "    file = files[np.random.randint(len(files))]\n",
        "    path = dir+'/'+file\n",
        "    print(f'truth: {name}')\n",
        "    print(path+'\\n')\n",
        "    show_top5(path)"
      ],
      "execution_count": 0,
      "outputs": []
    },
    {
      "metadata": {
        "id": "080qSEnJL9fY",
        "colab_type": "code",
        "colab": {}
      },
      "cell_type": "code",
      "source": [
        "test_random_prediction()"
      ],
      "execution_count": 0,
      "outputs": []
    },
    {
      "metadata": {
        "id": "EYI8FHPVL9fb",
        "colab_type": "code",
        "colab": {}
      },
      "cell_type": "code",
      "source": [
        ""
      ],
      "execution_count": 0,
      "outputs": []
    }
  ]
}